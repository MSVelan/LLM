{
 "cells": [
  {
   "cell_type": "code",
   "execution_count": 2,
   "metadata": {},
   "outputs": [
    {
     "data": {
      "text/plain": [
       "True"
      ]
     },
     "execution_count": 2,
     "metadata": {},
     "output_type": "execute_result"
    }
   ],
   "source": [
    "from dotenv import load_dotenv\n",
    "import os\n",
    "\n",
    "load_dotenv()  # This line brings all environment variables from .env into os.environ"
   ]
  },
  {
   "cell_type": "code",
   "execution_count": 3,
   "metadata": {},
   "outputs": [
    {
     "name": "stderr",
     "output_type": "stream",
     "text": [
      "/home/msvelan/.local/share/virtualenvs/LLM-dr_kSaRK/lib/python3.10/site-packages/tqdm/auto.py:21: TqdmWarning: IProgress not found. Please update jupyter and ipywidgets. See https://ipywidgets.readthedocs.io/en/stable/user_install.html\n",
      "  from .autonotebook import tqdm as notebook_tqdm\n"
     ]
    }
   ],
   "source": [
    "import google.generativeai as genai"
   ]
  },
  {
   "cell_type": "code",
   "execution_count": null,
   "metadata": {},
   "outputs": [],
   "source": [
    "import pathlib\n",
    "import textwrap\n",
    "\n",
    "from IPython.display import display\n",
    "from IPython.display import Markdown\n",
    "\n",
    "\n",
    "def to_markdown(text):\n",
    "  text = text.replace('•', '  *')\n",
    "  return Markdown(textwrap.indent(text, '> ', predicate=lambda _: True))"
   ]
  },
  {
   "cell_type": "code",
   "execution_count": 4,
   "metadata": {},
   "outputs": [],
   "source": [
    "GOOGLE_API_KEY=os.environ.get('GOOGLE_API_KEY')\n",
    "\n",
    "genai.configure(api_key=GOOGLE_API_KEY)"
   ]
  },
  {
   "cell_type": "code",
   "execution_count": 5,
   "metadata": {},
   "outputs": [
    {
     "name": "stderr",
     "output_type": "stream",
     "text": [
      "WARNING: All log messages before absl::InitializeLog() is called are written to STDERR\n",
      "I0000 00:00:1721900928.555109  404633 config.cc:230] gRPC experiments enabled: call_status_override_on_cancellation, event_engine_dns, event_engine_listener, http2_stats_fix, monitoring_experiment, pick_first_new, trace_record_callops, work_serializer_clears_time_cache\n",
      "I0000 00:00:1721900929.320054  405610 subchannel.cc:806] subchannel 0x5bada9f93130 {address=ipv6:%5B2404:6800:4002:81e::200a%5D:443, args={grpc.client_channel_factory=0x5bada9f2f840, grpc.default_authority=generativelanguage.googleapis.com:443, grpc.dns_enable_srv_queries=1, grpc.http2_scheme=https, grpc.internal.channel_credentials=0x5bada9f72090, grpc.internal.client_channel_call_destination=0x7dbd2b64b3d0, grpc.internal.event_engine=0x5bada9f717d0, grpc.internal.security_connector=0x5bada9f908f0, grpc.internal.subchannel_pool=0x5bada9f72b80, grpc.max_receive_message_length=-1, grpc.max_send_message_length=-1, grpc.primary_user_agent=grpc-python/1.65.1, grpc.resource_quota=0x5bada9f72a70, grpc.server_uri=dns:///generativelanguage.googleapis.com:443}}: connect failed (UNKNOWN:connect: Network is unreachable (101) {created_time:\"2024-07-25T15:18:49.319747645+05:30\"}), backing off for 999 ms\n",
      "I0000 00:00:1721900929.571613  405615 subchannel.cc:806] subchannel 0x5bada9f94bc0 {address=ipv6:%5B2404:6800:4002:81f::200a%5D:443, args={grpc.client_channel_factory=0x5bada9f2f840, grpc.default_authority=generativelanguage.googleapis.com:443, grpc.dns_enable_srv_queries=1, grpc.http2_scheme=https, grpc.internal.channel_credentials=0x5bada9f72090, grpc.internal.client_channel_call_destination=0x7dbd2b64b3d0, grpc.internal.event_engine=0x5bada9f94ab0, grpc.internal.security_connector=0x5bada9f94810, grpc.internal.subchannel_pool=0x5bada9f72b80, grpc.max_receive_message_length=-1, grpc.max_send_message_length=-1, grpc.primary_user_agent=grpc-python/1.65.1, grpc.resource_quota=0x5bada9f72a70, grpc.server_uri=dns:///generativelanguage.googleapis.com:443}}: connect failed (UNKNOWN:connect: Network is unreachable (101) {created_time:\"2024-07-25T15:18:49.571434033+05:30\"}), backing off for 999 ms\n",
      "I0000 00:00:1721900929.823690  405612 subchannel.cc:806] subchannel 0x5bada9f96810 {address=ipv6:%5B2404:6800:4002:820::200a%5D:443, args={grpc.client_channel_factory=0x5bada9f2f840, grpc.default_authority=generativelanguage.googleapis.com:443, grpc.dns_enable_srv_queries=1, grpc.http2_scheme=https, grpc.internal.channel_credentials=0x5bada9f72090, grpc.internal.client_channel_call_destination=0x7dbd2b64b3d0, grpc.internal.event_engine=0x5bada9f96700, grpc.internal.security_connector=0x5bada9f96490, grpc.internal.subchannel_pool=0x5bada9f72b80, grpc.max_receive_message_length=-1, grpc.max_send_message_length=-1, grpc.primary_user_agent=grpc-python/1.65.1, grpc.resource_quota=0x5bada9f72a70, grpc.server_uri=dns:///generativelanguage.googleapis.com:443}}: connect failed (UNKNOWN:connect: Network is unreachable (101) {created_time:\"2024-07-25T15:18:49.823591054+05:30\"}), backing off for 999 ms\n",
      "I0000 00:00:1721900930.075292  405609 subchannel.cc:806] subchannel 0x5bada9f984a0 {address=ipv6:%5B2404:6800:4002:821::200a%5D:443, args={grpc.client_channel_factory=0x5bada9f2f840, grpc.default_authority=generativelanguage.googleapis.com:443, grpc.dns_enable_srv_queries=1, grpc.http2_scheme=https, grpc.internal.channel_credentials=0x5bada9f72090, grpc.internal.client_channel_call_destination=0x7dbd2b64b3d0, grpc.internal.event_engine=0x5bada9f98390, grpc.internal.security_connector=0x5bada9f98120, grpc.internal.subchannel_pool=0x5bada9f72b80, grpc.max_receive_message_length=-1, grpc.max_send_message_length=-1, grpc.primary_user_agent=grpc-python/1.65.1, grpc.resource_quota=0x5bada9f72a70, grpc.server_uri=dns:///generativelanguage.googleapis.com:443}}: connect failed (UNKNOWN:connect: Network is unreachable (101) {created_time:\"2024-07-25T15:18:50.075190641+05:30\"}), backing off for 1000 ms\n",
      "I0000 00:00:1721900930.320110  405617 subchannel.cc:761] subchannel 0x5bada9f93130 {address=ipv6:%5B2404:6800:4002:81e::200a%5D:443, args={grpc.client_channel_factory=0x5bada9f2f840, grpc.default_authority=generativelanguage.googleapis.com:443, grpc.dns_enable_srv_queries=1, grpc.http2_scheme=https, grpc.internal.channel_credentials=0x5bada9f72090, grpc.internal.client_channel_call_destination=0x7dbd2b64b3d0, grpc.internal.event_engine=0x5bada9f717d0, grpc.internal.security_connector=0x5bada9f908f0, grpc.internal.subchannel_pool=0x5bada9f72b80, grpc.max_receive_message_length=-1, grpc.max_send_message_length=-1, grpc.primary_user_agent=grpc-python/1.65.1, grpc.resource_quota=0x5bada9f72a70, grpc.server_uri=dns:///generativelanguage.googleapis.com:443}}: backoff delay elapsed, reporting IDLE\n"
     ]
    },
    {
     "name": "stdout",
     "output_type": "stream",
     "text": [
      "models/gemini-1.0-pro-latest\n",
      "models/gemini-1.0-pro\n",
      "models/gemini-pro\n",
      "models/gemini-1.0-pro-001\n",
      "models/gemini-1.0-pro-vision-latest\n",
      "models/gemini-pro-vision\n",
      "models/gemini-1.5-pro-latest\n",
      "models/gemini-1.5-pro-001\n",
      "models/gemini-1.5-pro\n",
      "models/gemini-1.5-flash-latest\n",
      "models/gemini-1.5-flash-001\n",
      "models/gemini-1.5-flash\n"
     ]
    }
   ],
   "source": [
    "for m in genai.list_models():\n",
    "  if 'generateContent' in m.supported_generation_methods:\n",
    "    print(m.name)\n"
   ]
  },
  {
   "cell_type": "code",
   "execution_count": 6,
   "metadata": {},
   "outputs": [],
   "source": [
    "model = genai.GenerativeModel('gemini-1.5-flash')\n"
   ]
  },
  {
   "cell_type": "code",
   "execution_count": 7,
   "metadata": {},
   "outputs": [
    {
     "name": "stderr",
     "output_type": "stream",
     "text": [
      "I0000 00:00:1721900993.024306  405610 subchannel.cc:806] subchannel 0x5bada9f9ed70 {address=ipv6:%5B2404:6800:4002:823::200a%5D:443, args={grpc.client_channel_factory=0x5bada9f2f840, grpc.default_authority=generativelanguage.googleapis.com:443, grpc.dns_enable_srv_queries=1, grpc.http2_scheme=https, grpc.internal.channel_credentials=0x5bada9f80c70, grpc.internal.client_channel_call_destination=0x7dbd2b64b3d0, grpc.internal.event_engine=0x5bada9f99720, grpc.internal.security_connector=0x5bada9f999a0, grpc.internal.subchannel_pool=0x5bada9f72b80, grpc.max_receive_message_length=-1, grpc.max_send_message_length=-1, grpc.primary_user_agent=grpc-python/1.65.1, grpc.resource_quota=0x5bada9f72a70, grpc.server_uri=dns:///generativelanguage.googleapis.com:443}}: connect failed (UNKNOWN:connect: Network is unreachable (101) {created_time:\"2024-07-25T15:19:53.024188566+05:30\"}), backing off for 1000 ms\n",
      "I0000 00:00:1721900993.276371  405616 subchannel.cc:806] subchannel 0x5bada9f9cfb0 {address=ipv6:%5B2404:6800:4002:822::200a%5D:443, args={grpc.client_channel_factory=0x5bada9f2f840, grpc.default_authority=generativelanguage.googleapis.com:443, grpc.dns_enable_srv_queries=1, grpc.http2_scheme=https, grpc.internal.channel_credentials=0x5bada9f80c70, grpc.internal.client_channel_call_destination=0x7dbd2b64b3d0, grpc.internal.event_engine=0x5bada9fadb30, grpc.internal.security_connector=0x5bada9fbbd60, grpc.internal.subchannel_pool=0x5bada9f72b80, grpc.max_receive_message_length=-1, grpc.max_send_message_length=-1, grpc.primary_user_agent=grpc-python/1.65.1, grpc.resource_quota=0x5bada9f72a70, grpc.server_uri=dns:///generativelanguage.googleapis.com:443}}: connect failed (UNKNOWN:connect: Network is unreachable (101) {created_time:\"2024-07-25T15:19:53.27628759+05:30\"}), backing off for 1000 ms\n"
     ]
    },
    {
     "name": "stdout",
     "output_type": "stream",
     "text": [
      "CPU times: user 25.1 ms, sys: 103 μs, total: 25.2 ms\n",
      "Wall time: 6.15 s\n"
     ]
    }
   ],
   "source": [
    "%%time\n",
    "response = model.generate_content(\"What is the meaning of life?\")"
   ]
  },
  {
   "cell_type": "code",
   "execution_count": 10,
   "metadata": {},
   "outputs": [
    {
     "data": {
      "text/markdown": [
       "> The meaning of life is a question that has been pondered by philosophers and theologians for centuries. There is no single, definitive answer, as it is a deeply personal and subjective question. \n",
       "> \n",
       "> Here are some different perspectives on the meaning of life:\n",
       "> \n",
       "> **Philosophical perspectives:**\n",
       "> \n",
       "> * **Existentialism:**  Life has no inherent meaning, and we are free to create our own.  We are responsible for shaping our own destinies and finding meaning in our actions and experiences.\n",
       "> * **Nihilism:** Life is ultimately meaningless and without purpose.\n",
       "> * **Absurdism:**  Life is inherently absurd, as there is no inherent meaning or purpose.  We must embrace this absurdity and find meaning in our own experiences. \n",
       "> * **Hedonism:**  The meaning of life is to seek pleasure and avoid pain.\n",
       "> * **Utilitarianism:**  The meaning of life is to maximize happiness and well-being for all.\n",
       "> \n",
       "> **Religious perspectives:**\n",
       "> \n",
       "> * **Theism:**  Life has meaning and purpose given by a higher power, such as God.\n",
       "> * **Buddhism:**  The meaning of life is to attain enlightenment and escape the cycle of suffering. \n",
       "> \n",
       "> **Other perspectives:**\n",
       "> \n",
       "> * **Humanistic psychology:**  The meaning of life is found in self-actualization and realizing our full potential.\n",
       "> * **Evolutionary biology:**  The meaning of life is to survive and reproduce.\n",
       "> \n",
       "> Ultimately, the meaning of life is what you choose to make it.  There is no right or wrong answer, and it is a question that each individual must answer for themselves.\n",
       "> \n",
       "> **Here are some questions to consider when thinking about the meaning of life:**\n",
       "> \n",
       "> * What brings you joy and fulfillment?\n",
       "> * What are your values and beliefs?\n",
       "> * What legacy do you want to leave behind?\n",
       "> * What do you want to achieve in your life?\n",
       "> \n",
       "> By exploring these questions, you can begin to develop your own understanding of the meaning of life. \n"
      ],
      "text/plain": [
       "<IPython.core.display.Markdown object>"
      ]
     },
     "execution_count": 10,
     "metadata": {},
     "output_type": "execute_result"
    }
   ],
   "source": [
    "to_markdown(response.text)"
   ]
  },
  {
   "cell_type": "code",
   "execution_count": null,
   "metadata": {},
   "outputs": [],
   "source": []
  }
 ],
 "metadata": {
  "kernelspec": {
   "display_name": "LLM-dr_kSaRK",
   "language": "python",
   "name": "python3"
  },
  "language_info": {
   "codemirror_mode": {
    "name": "ipython",
    "version": 3
   },
   "file_extension": ".py",
   "mimetype": "text/x-python",
   "name": "python",
   "nbconvert_exporter": "python",
   "pygments_lexer": "ipython3",
   "version": "3.10.12"
  }
 },
 "nbformat": 4,
 "nbformat_minor": 2
}
